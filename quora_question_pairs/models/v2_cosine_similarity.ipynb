{
 "cells": [
  {
   "cell_type": "code",
   "execution_count": 21,
   "metadata": {},
   "outputs": [],
   "source": [
    "import pandas as pd\n",
    "from sklearn.feature_extraction.text import TfidfVectorizer\n",
    "from sklearn.metrics.pairwise import cosine_similarity\n",
    "import swifter\n",
    "import matplotlib.pyplot as plt"
   ]
  },
  {
   "cell_type": "code",
   "execution_count": 3,
   "metadata": {},
   "outputs": [
    {
     "name": "stderr",
     "output_type": "stream",
     "text": [
      "/home/omid-dev/Personal/venvs/data_science_challenges/lib/python3.8/site-packages/IPython/core/interactiveshell.py:3145: DtypeWarning: Columns (0) have mixed types.Specify dtype option on import or set low_memory=False.\n",
      "  has_raised = await self.run_ast_nodes(code_ast.body, cell_name,\n"
     ]
    },
    {
     "data": {
      "text/html": [
       "<div>\n",
       "<style scoped>\n",
       "    .dataframe tbody tr th:only-of-type {\n",
       "        vertical-align: middle;\n",
       "    }\n",
       "\n",
       "    .dataframe tbody tr th {\n",
       "        vertical-align: top;\n",
       "    }\n",
       "\n",
       "    .dataframe thead th {\n",
       "        text-align: right;\n",
       "    }\n",
       "</style>\n",
       "<table border=\"1\" class=\"dataframe\">\n",
       "  <thead>\n",
       "    <tr style=\"text-align: right;\">\n",
       "      <th></th>\n",
       "      <th>id</th>\n",
       "      <th>qid1</th>\n",
       "      <th>qid2</th>\n",
       "      <th>question1</th>\n",
       "      <th>question2</th>\n",
       "      <th>is_duplicate</th>\n",
       "    </tr>\n",
       "  </thead>\n",
       "  <tbody>\n",
       "    <tr>\n",
       "      <th>0</th>\n",
       "      <td>0</td>\n",
       "      <td>1</td>\n",
       "      <td>2</td>\n",
       "      <td>What is the step by step guide to invest in sh...</td>\n",
       "      <td>What is the step by step guide to invest in sh...</td>\n",
       "      <td>0</td>\n",
       "    </tr>\n",
       "    <tr>\n",
       "      <th>1</th>\n",
       "      <td>1</td>\n",
       "      <td>3</td>\n",
       "      <td>4</td>\n",
       "      <td>What is the story of Kohinoor (Koh-i-Noor) Dia...</td>\n",
       "      <td>What would happen if the Indian government sto...</td>\n",
       "      <td>0</td>\n",
       "    </tr>\n",
       "    <tr>\n",
       "      <th>2</th>\n",
       "      <td>2</td>\n",
       "      <td>5</td>\n",
       "      <td>6</td>\n",
       "      <td>How can I increase the speed of my internet co...</td>\n",
       "      <td>How can Internet speed be increased by hacking...</td>\n",
       "      <td>0</td>\n",
       "    </tr>\n",
       "    <tr>\n",
       "      <th>3</th>\n",
       "      <td>3</td>\n",
       "      <td>7</td>\n",
       "      <td>8</td>\n",
       "      <td>Why am I mentally very lonely? How can I solve...</td>\n",
       "      <td>Find the remainder when [math]23^{24}[/math] i...</td>\n",
       "      <td>0</td>\n",
       "    </tr>\n",
       "    <tr>\n",
       "      <th>4</th>\n",
       "      <td>4</td>\n",
       "      <td>9</td>\n",
       "      <td>10</td>\n",
       "      <td>Which one dissolve in water quikly sugar, salt...</td>\n",
       "      <td>Which fish would survive in salt water?</td>\n",
       "      <td>0</td>\n",
       "    </tr>\n",
       "  </tbody>\n",
       "</table>\n",
       "</div>"
      ],
      "text/plain": [
       "   id  qid1  qid2                                          question1  \\\n",
       "0   0     1     2  What is the step by step guide to invest in sh...   \n",
       "1   1     3     4  What is the story of Kohinoor (Koh-i-Noor) Dia...   \n",
       "2   2     5     6  How can I increase the speed of my internet co...   \n",
       "3   3     7     8  Why am I mentally very lonely? How can I solve...   \n",
       "4   4     9    10  Which one dissolve in water quikly sugar, salt...   \n",
       "\n",
       "                                           question2  is_duplicate  \n",
       "0  What is the step by step guide to invest in sh...             0  \n",
       "1  What would happen if the Indian government sto...             0  \n",
       "2  How can Internet speed be increased by hacking...             0  \n",
       "3  Find the remainder when [math]23^{24}[/math] i...             0  \n",
       "4            Which fish would survive in salt water?             0  "
      ]
     },
     "execution_count": 3,
     "metadata": {},
     "output_type": "execute_result"
    }
   ],
   "source": [
    "train_df = pd.read_csv('../data/train.csv.zip').dropna()\n",
    "test_df = pd.read_csv('../data/test.csv.zip').dropna()\n",
    "train_df.head()"
   ]
  },
  {
   "cell_type": "code",
   "execution_count": 12,
   "metadata": {},
   "outputs": [],
   "source": [
    "corpus = pd.concat([train_df.question1, train_df.question2])\n",
    "\n",
    "tfidf_vect = TfidfVectorizer().fit(corpus)"
   ]
  },
  {
   "cell_type": "code",
   "execution_count": 14,
   "metadata": {},
   "outputs": [
    {
     "name": "stderr",
     "output_type": "stream",
     "text": [
      "Dask Apply: 100%|██████████| 32/32 [02:07<00:00,  3.99s/it]\n"
     ]
    },
    {
     "data": {
      "text/html": [
       "<div>\n",
       "<style scoped>\n",
       "    .dataframe tbody tr th:only-of-type {\n",
       "        vertical-align: middle;\n",
       "    }\n",
       "\n",
       "    .dataframe tbody tr th {\n",
       "        vertical-align: top;\n",
       "    }\n",
       "\n",
       "    .dataframe thead th {\n",
       "        text-align: right;\n",
       "    }\n",
       "</style>\n",
       "<table border=\"1\" class=\"dataframe\">\n",
       "  <thead>\n",
       "    <tr style=\"text-align: right;\">\n",
       "      <th></th>\n",
       "      <th>id</th>\n",
       "      <th>qid1</th>\n",
       "      <th>qid2</th>\n",
       "      <th>question1</th>\n",
       "      <th>question2</th>\n",
       "      <th>is_duplicate</th>\n",
       "      <th>csim</th>\n",
       "    </tr>\n",
       "  </thead>\n",
       "  <tbody>\n",
       "    <tr>\n",
       "      <th>0</th>\n",
       "      <td>0</td>\n",
       "      <td>1</td>\n",
       "      <td>2</td>\n",
       "      <td>What is the step by step guide to invest in sh...</td>\n",
       "      <td>What is the step by step guide to invest in sh...</td>\n",
       "      <td>0</td>\n",
       "      <td>0.978515</td>\n",
       "    </tr>\n",
       "    <tr>\n",
       "      <th>1</th>\n",
       "      <td>1</td>\n",
       "      <td>3</td>\n",
       "      <td>4</td>\n",
       "      <td>What is the story of Kohinoor (Koh-i-Noor) Dia...</td>\n",
       "      <td>What would happen if the Indian government sto...</td>\n",
       "      <td>0</td>\n",
       "      <td>0.749755</td>\n",
       "    </tr>\n",
       "    <tr>\n",
       "      <th>2</th>\n",
       "      <td>2</td>\n",
       "      <td>5</td>\n",
       "      <td>6</td>\n",
       "      <td>How can I increase the speed of my internet co...</td>\n",
       "      <td>How can Internet speed be increased by hacking...</td>\n",
       "      <td>0</td>\n",
       "      <td>0.254677</td>\n",
       "    </tr>\n",
       "    <tr>\n",
       "      <th>3</th>\n",
       "      <td>3</td>\n",
       "      <td>7</td>\n",
       "      <td>8</td>\n",
       "      <td>Why am I mentally very lonely? How can I solve...</td>\n",
       "      <td>Find the remainder when [math]23^{24}[/math] i...</td>\n",
       "      <td>0</td>\n",
       "      <td>0.000000</td>\n",
       "    </tr>\n",
       "    <tr>\n",
       "      <th>4</th>\n",
       "      <td>4</td>\n",
       "      <td>9</td>\n",
       "      <td>10</td>\n",
       "      <td>Which one dissolve in water quikly sugar, salt...</td>\n",
       "      <td>Which fish would survive in salt water?</td>\n",
       "      <td>0</td>\n",
       "      <td>0.260064</td>\n",
       "    </tr>\n",
       "  </tbody>\n",
       "</table>\n",
       "</div>"
      ],
      "text/plain": [
       "   id  qid1  qid2                                          question1  \\\n",
       "0   0     1     2  What is the step by step guide to invest in sh...   \n",
       "1   1     3     4  What is the story of Kohinoor (Koh-i-Noor) Dia...   \n",
       "2   2     5     6  How can I increase the speed of my internet co...   \n",
       "3   3     7     8  Why am I mentally very lonely? How can I solve...   \n",
       "4   4     9    10  Which one dissolve in water quikly sugar, salt...   \n",
       "\n",
       "                                           question2  is_duplicate      csim  \n",
       "0  What is the step by step guide to invest in sh...             0  0.978515  \n",
       "1  What would happen if the Indian government sto...             0  0.749755  \n",
       "2  How can Internet speed be increased by hacking...             0  0.254677  \n",
       "3  Find the remainder when [math]23^{24}[/math] i...             0  0.000000  \n",
       "4            Which fish would survive in salt water?             0  0.260064  "
      ]
     },
     "execution_count": 14,
     "metadata": {},
     "output_type": "execute_result"
    }
   ],
   "source": [
    "def calculate_cosine_similarity(question1, question2):\n",
    "    q1_vector = tfidf_vect.transform([question1])\n",
    "    q2_vector = tfidf_vect.transform([question2])\n",
    "    return cosine_similarity(q1_vector, q2_vector).ravel()[0]\n",
    "\n",
    "train_df['csim'] = train_df.swifter.apply(lambda x: calculate_cosine_similarity(x['question1'], x['question2']), axis=1)\n",
    "train_df.head()"
   ]
  },
  {
   "cell_type": "code",
   "execution_count": 20,
   "metadata": {},
   "outputs": [
    {
     "name": "stderr",
     "output_type": "stream",
     "text": [
      "Dask Apply: 100%|██████████| 32/32 [00:01<00:00, 22.37it/s]\n",
      "Dask Apply: 100%|██████████| 32/32 [00:01<00:00, 22.21it/s]\n",
      "Dask Apply: 100%|██████████| 32/32 [00:01<00:00, 21.83it/s]\n",
      "Dask Apply: 100%|██████████| 32/32 [00:01<00:00, 20.76it/s]\n",
      "Dask Apply: 100%|██████████| 32/32 [00:01<00:00, 22.88it/s]\n",
      "Dask Apply: 100%|██████████| 32/32 [00:01<00:00, 22.84it/s]\n",
      "Dask Apply: 100%|██████████| 32/32 [00:01<00:00, 22.87it/s]\n",
      "Dask Apply: 100%|██████████| 32/32 [00:01<00:00, 22.76it/s]\n",
      "Dask Apply: 100%|██████████| 32/32 [00:01<00:00, 21.76it/s]\n",
      "Dask Apply: 100%|██████████| 32/32 [00:01<00:00, 21.80it/s]\n",
      "Dask Apply: 100%|██████████| 32/32 [00:01<00:00, 22.31it/s]\n",
      "Dask Apply: 100%|██████████| 32/32 [00:01<00:00, 23.12it/s]\n",
      "Dask Apply: 100%|██████████| 32/32 [00:01<00:00, 22.27it/s]\n",
      "Dask Apply: 100%|██████████| 32/32 [00:01<00:00, 22.25it/s]\n",
      "Dask Apply: 100%|██████████| 32/32 [00:01<00:00, 20.16it/s]\n",
      "Dask Apply: 100%|██████████| 32/32 [00:01<00:00, 22.53it/s]\n",
      "Dask Apply: 100%|██████████| 32/32 [00:01<00:00, 23.19it/s]\n",
      "Dask Apply: 100%|██████████| 32/32 [00:01<00:00, 22.40it/s]\n",
      "Dask Apply: 100%|██████████| 32/32 [00:01<00:00, 22.88it/s]\n",
      "Dask Apply: 100%|██████████| 32/32 [00:01<00:00, 22.70it/s]\n"
     ]
    },
    {
     "data": {
      "text/plain": [
       "{0: {'csim_accuracy': 0.3692005926482919},\n",
       " 5: {'csim_accuracy': 0.4624313915609456},\n",
       " 10: {'csim_accuracy': 0.47893946627024864},\n",
       " 15: {'csim_accuracy': 0.49968462997820856},\n",
       " 20: {'csim_accuracy': 0.5276078627311785},\n",
       " 25: {'csim_accuracy': 0.559018716901607},\n",
       " 30: {'csim_accuracy': 0.5895119061458816},\n",
       " 35: {'csim_accuracy': 0.6170542213823348},\n",
       " 40: {'csim_accuracy': 0.6392166950705811},\n",
       " 45: {'csim_accuracy': 0.6545968581725359},\n",
       " 50: {'csim_accuracy': 0.6631155589964555},\n",
       " 55: {'csim_accuracy': 0.6664597179726284},\n",
       " 60: {'csim_accuracy': 0.6644462968138971},\n",
       " 65: {'csim_accuracy': 0.6603501967661587},\n",
       " 70: {'csim_accuracy': 0.6555986217711676},\n",
       " 75: {'csim_accuracy': 0.6536965076789508},\n",
       " 80: {'csim_accuracy': 0.6544632896927183},\n",
       " 85: {'csim_accuracy': 0.6583615105110974},\n",
       " 90: {'csim_accuracy': 0.6574240576620074},\n",
       " 95: {'csim_accuracy': 0.6480668436036776}}"
      ]
     },
     "execution_count": 20,
     "metadata": {},
     "output_type": "execute_result"
    }
   ],
   "source": [
    "# find the best threshold to use by trying all thresholds and getting their accuracies\n",
    "def is_correct(row, ratio_type, threshold):\n",
    "    is_duplicate = True if row['is_duplicate'] == 1 else False\n",
    "    return is_duplicate == (row[ratio_type] >= threshold)\n",
    "\n",
    "thres_accuracy_map = {}\n",
    "\n",
    "for threshold in range(0, 100, 5):\n",
    "    csim_col = f'csim_correct_{threshold}'\n",
    "    train_df[csim_col] = train_df.swifter.apply(lambda x: is_correct(x, 'csim', threshold/100), axis=1)\n",
    "    csim_accuracy = len(train_df[csim_col].loc[train_df[csim_col] == True])/len(train_df[csim_col])\n",
    "\n",
    "    thres_accuracy_map[threshold] = {\n",
    "        'csim_accuracy': csim_accuracy,\n",
    "    }\n",
    "thres_accuracy_map"
   ]
  },
  {
   "cell_type": "code",
   "execution_count": 23,
   "metadata": {},
   "outputs": [
    {
     "data": {
      "text/plain": [
       "<matplotlib.legend.Legend at 0x7f64641c9910>"
      ]
     },
     "execution_count": 23,
     "metadata": {},
     "output_type": "execute_result"
    },
    {
     "data": {
      "image/png": "[encoded data removed]",
      "text/plain": [
       "<Figure size 1440x1080 with 1 Axes>"
      ]
     },
     "metadata": {
      "needs_background": "light"
     },
     "output_type": "display_data"
    }
   ],
   "source": [
    "plt.figure(num=1, figsize=(20,15))\n",
    "\n",
    "plt.plot(thres_accuracy_map.keys(), [accuracies['csim_accuracy'] for accuracies in thres_accuracy_map.values()], label='Cosine Similarity')\n",
    "\n",
    "plt.xlabel(\"Thresholds\")\n",
    "plt.ylabel(\"Accuracy\")\n",
    "plt.title(\"Accuracies at different thresholds\")\n",
    "plt.legend(loc=\"upper left\")"
   ]
  },
  {
   "cell_type": "code",
   "execution_count": 25,
   "metadata": {},
   "outputs": [
    {
     "data": {
      "text/plain": [
       "id                 134846\n",
       "qid1               134846\n",
       "qid2               134846\n",
       "question1          134846\n",
       "question2          134846\n",
       "is_duplicate       134846\n",
       "csim               134846\n",
       "csim_correct_0     134846\n",
       "csim_correct_5     134846\n",
       "csim_correct_10    134846\n",
       "csim_correct_15    134846\n",
       "csim_correct_20    134846\n",
       "csim_correct_25    134846\n",
       "csim_correct_30    134846\n",
       "csim_correct_35    134846\n",
       "csim_correct_40    134846\n",
       "csim_correct_45    134846\n",
       "csim_correct_50    134846\n",
       "csim_correct_55    134846\n",
       "csim_correct_60    134846\n",
       "csim_correct_65    134846\n",
       "csim_correct_70    134846\n",
       "csim_correct_75    134846\n",
       "csim_correct_80    134846\n",
       "csim_correct_85    134846\n",
       "csim_correct_90    134846\n",
       "csim_correct_95    134846\n",
       "dtype: int64"
      ]
     },
     "execution_count": 25,
     "metadata": {},
     "output_type": "execute_result"
    }
   ],
   "source": [
    "false_negatives = train_df.loc[train_df['csim_correct_55'] == False]\n",
    "false_negatives.to_csv('../output/csim_correct_55_false_negatives.csv')\n",
    "false_negatives.count()"
   ]
  },
  {
   "cell_type": "markdown",
   "metadata": {},
   "source": [
    "Conclusion\n",
    "- Same problems as v1_base, using cosine similarity gives an almost identical accuracy at the same best threshold of 55.\n",
    "- Need to create a model that accounts that looks at the meaning of the text."
   ]
  },
  {
   "cell_type": "code",
   "execution_count": null,
   "metadata": {},
   "outputs": [],
   "source": []
  },
  {
   "cell_type": "code",
   "execution_count": null,
   "metadata": {},
   "outputs": [],
   "source": []
  },
  {
   "cell_type": "code",
   "execution_count": null,
   "metadata": {},
   "outputs": [],
   "source": []
  },
  {
   "cell_type": "code",
   "execution_count": null,
   "metadata": {},
   "outputs": [],
   "source": []
  }
 ],
 "metadata": {
  "interpreter": {
   "hash": "3872f8dba59e6fb582868000b73f7396e403e1070facd46dc063100be0232eec"
  },
  "kernelspec": {
   "display_name": "Python 3.8.10 64-bit ('data_science_challenges': venv)",
   "language": "python",
   "name": "python3"
  },
  "language_info": {
   "codemirror_mode": {
    "name": "ipython",
    "version": 3
   },
   "file_extension": ".py",
   "mimetype": "text/x-python",
   "name": "python",
   "nbconvert_exporter": "python",
   "pygments_lexer": "ipython3",
   "version": "3.8.10"
  },
  "orig_nbformat": 4
 },
 "nbformat": 4,
 "nbformat_minor": 2
}
