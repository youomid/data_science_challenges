{
 "cells": [
  {
   "cell_type": "code",
   "execution_count": 2,
   "metadata": {},
   "outputs": [],
   "source": [
    "import pandas as pd"
   ]
  },
  {
   "cell_type": "code",
   "execution_count": 4,
   "metadata": {},
   "outputs": [
    {
     "data": {
      "text/html": [
       "<div>\n",
       "<style scoped>\n",
       "    .dataframe tbody tr th:only-of-type {\n",
       "        vertical-align: middle;\n",
       "    }\n",
       "\n",
       "    .dataframe tbody tr th {\n",
       "        vertical-align: top;\n",
       "    }\n",
       "\n",
       "    .dataframe thead th {\n",
       "        text-align: right;\n",
       "    }\n",
       "</style>\n",
       "<table border=\"1\" class=\"dataframe\">\n",
       "  <thead>\n",
       "    <tr style=\"text-align: right;\">\n",
       "      <th></th>\n",
       "      <th>Unnamed: 0</th>\n",
       "      <th>id</th>\n",
       "      <th>qid1</th>\n",
       "      <th>qid2</th>\n",
       "      <th>question1</th>\n",
       "      <th>question2</th>\n",
       "      <th>is_duplicate</th>\n",
       "      <th>simple_ratio</th>\n",
       "      <th>partial_ratio</th>\n",
       "      <th>token_sort_ratio</th>\n",
       "      <th>token_set_ratio</th>\n",
       "      <th>is_correct</th>\n",
       "    </tr>\n",
       "  </thead>\n",
       "  <tbody>\n",
       "    <tr>\n",
       "      <th>0</th>\n",
       "      <td>3</td>\n",
       "      <td>126298</td>\n",
       "      <td>40834</td>\n",
       "      <td>23279</td>\n",
       "      <td>Why do people believe the earth is flat when c...</td>\n",
       "      <td>Why do some people think Earth is flat?</td>\n",
       "      <td>1</td>\n",
       "      <td>51</td>\n",
       "      <td>74</td>\n",
       "      <td>59</td>\n",
       "      <td>83</td>\n",
       "      <td>False</td>\n",
       "    </tr>\n",
       "    <tr>\n",
       "      <th>1</th>\n",
       "      <td>7</td>\n",
       "      <td>212100</td>\n",
       "      <td>317094</td>\n",
       "      <td>317095</td>\n",
       "      <td>How well do programming bootcamps work for tho...</td>\n",
       "      <td>How well do programming bootcamps work for tho...</td>\n",
       "      <td>1</td>\n",
       "      <td>99</td>\n",
       "      <td>98</td>\n",
       "      <td>92</td>\n",
       "      <td>92</td>\n",
       "      <td>False</td>\n",
       "    </tr>\n",
       "    <tr>\n",
       "      <th>2</th>\n",
       "      <td>8</td>\n",
       "      <td>37955</td>\n",
       "      <td>47485</td>\n",
       "      <td>4950</td>\n",
       "      <td>Why do people try to ask silly questions on Qu...</td>\n",
       "      <td>How come people on Quora ask questions here, w...</td>\n",
       "      <td>1</td>\n",
       "      <td>45</td>\n",
       "      <td>57</td>\n",
       "      <td>55</td>\n",
       "      <td>66</td>\n",
       "      <td>False</td>\n",
       "    </tr>\n",
       "    <tr>\n",
       "      <th>3</th>\n",
       "      <td>9</td>\n",
       "      <td>140226</td>\n",
       "      <td>222872</td>\n",
       "      <td>222873</td>\n",
       "      <td>What are the most popular e-commerce sites in ...</td>\n",
       "      <td>What is the foreseeable future of e-commerce i...</td>\n",
       "      <td>0</td>\n",
       "      <td>68</td>\n",
       "      <td>65</td>\n",
       "      <td>65</td>\n",
       "      <td>73</td>\n",
       "      <td>False</td>\n",
       "    </tr>\n",
       "    <tr>\n",
       "      <th>4</th>\n",
       "      <td>14</td>\n",
       "      <td>68456</td>\n",
       "      <td>862</td>\n",
       "      <td>30125</td>\n",
       "      <td>How I start prepare for UGC net English litera...</td>\n",
       "      <td>What is the best way to prepare for ugc net de...</td>\n",
       "      <td>1</td>\n",
       "      <td>59</td>\n",
       "      <td>62</td>\n",
       "      <td>65</td>\n",
       "      <td>73</td>\n",
       "      <td>False</td>\n",
       "    </tr>\n",
       "  </tbody>\n",
       "</table>\n",
       "</div>"
      ],
      "text/plain": [
       "   Unnamed: 0      id    qid1    qid2  \\\n",
       "0           3  126298   40834   23279   \n",
       "1           7  212100  317094  317095   \n",
       "2           8   37955   47485    4950   \n",
       "3           9  140226  222872  222873   \n",
       "4          14   68456     862   30125   \n",
       "\n",
       "                                           question1  \\\n",
       "0  Why do people believe the earth is flat when c...   \n",
       "1  How well do programming bootcamps work for tho...   \n",
       "2  Why do people try to ask silly questions on Qu...   \n",
       "3  What are the most popular e-commerce sites in ...   \n",
       "4  How I start prepare for UGC net English litera...   \n",
       "\n",
       "                                           question2  is_duplicate  \\\n",
       "0            Why do some people think Earth is flat?             1   \n",
       "1  How well do programming bootcamps work for tho...             1   \n",
       "2  How come people on Quora ask questions here, w...             1   \n",
       "3  What is the foreseeable future of e-commerce i...             0   \n",
       "4  What is the best way to prepare for ugc net de...             1   \n",
       "\n",
       "   simple_ratio  partial_ratio  token_sort_ratio  token_set_ratio  is_correct  \n",
       "0            51             74                59               83       False  \n",
       "1            99             98                92               92       False  \n",
       "2            45             57                55               66       False  \n",
       "3            68             65                65               73       False  \n",
       "4            59             62                65               73       False  "
      ]
     },
     "execution_count": 4,
     "metadata": {},
     "output_type": "execute_result"
    }
   ],
   "source": [
    "train_df = pd.read_csv('output/v3_nn_false_positives.csv').dropna()\n",
    "train_df.head()"
   ]
  },
  {
   "cell_type": "code",
   "execution_count": 4,
   "metadata": {},
   "outputs": [
    {
     "name": "stdout",
     "output_type": "stream",
     "text": [
      "Num samples for is_duplicate == 0: 105284\n",
      "Num samples for is_duplicate == 1: 30467\n"
     ]
    }
   ],
   "source": [
    "print(f\"Num samples for is_duplicate == 0: {train_df.loc[train_df['is_duplicate'] == 0].shape[0]}\")\n",
    "print(f\"Num samples for is_duplicate == 1: {train_df.loc[train_df['is_duplicate'] == 1].shape[0]}\")"
   ]
  },
  {
   "cell_type": "code",
   "execution_count": 5,
   "metadata": {},
   "outputs": [],
   "source": [
    "# TODO: count the number of unique words in questions\n"
   ]
  },
  {
   "cell_type": "code",
   "execution_count": 9,
   "metadata": {},
   "outputs": [],
   "source": [
    "# TODO: create a word cloud"
   ]
  },
  {
   "cell_type": "code",
   "execution_count": null,
   "metadata": {},
   "outputs": [],
   "source": []
  },
  {
   "cell_type": "code",
   "execution_count": null,
   "metadata": {},
   "outputs": [],
   "source": []
  },
  {
   "cell_type": "code",
   "execution_count": null,
   "metadata": {},
   "outputs": [],
   "source": []
  },
  {
   "cell_type": "code",
   "execution_count": null,
   "metadata": {},
   "outputs": [],
   "source": []
  },
  {
   "cell_type": "code",
   "execution_count": null,
   "metadata": {},
   "outputs": [],
   "source": []
  },
  {
   "cell_type": "code",
   "execution_count": null,
   "metadata": {},
   "outputs": [],
   "source": []
  }
 ],
 "metadata": {
  "interpreter": {
   "hash": "3872f8dba59e6fb582868000b73f7396e403e1070facd46dc063100be0232eec"
  },
  "kernelspec": {
   "display_name": "Python 3.8.10 64-bit ('data_science_challenges': venv)",
   "name": "python3"
  },
  "language_info": {
   "codemirror_mode": {
    "name": "ipython",
    "version": 3
   },
   "file_extension": ".py",
   "mimetype": "text/x-python",
   "name": "python",
   "nbconvert_exporter": "python",
   "pygments_lexer": "ipython3",
   "version": "3.8.10"
  },
  "orig_nbformat": 4
 },
 "nbformat": 4,
 "nbformat_minor": 2
}
